{
 "cells": [
  {
   "cell_type": "markdown",
   "id": "a236368c",
   "metadata": {},
   "source": [
    "Q1:\n",
    "Standard deviation measures the degree of dispersion of the original data, reflects the difference between the data point and the mean, and describes the fluctuation within the data. The standard error of the mean measures the accuracy of the sample mean as the population mean, reflects the variability of the sample mean and describes the reliability of the sample mean.\n",
    "\n",
    "https://chatgpt.com/share/66fdef52-3064-8001-829b-01e210fa4d46"
   ]
  },
  {
   "cell_type": "markdown",
   "id": "d964cb9d",
   "metadata": {},
   "source": [
    "Q2：\n",
    "CI = mean +_ Z * SEM\n",
    "\n",
    "here Z represents the 95% confidence level, normally Z = 1.96\n",
    "\n",
    "https://chatgpt.com/share/66fdf0d6-880c-8001-bebd-fb7bd9008b3a"
   ]
  },
  {
   "cell_type": "markdown",
   "id": "c7a7881b",
   "metadata": {},
   "source": [
    "Q3:\n",
    "We only need to simply take the 2.5th percentile and the 97.5th percentile of the sorted bootstrapped means. This percentile-based interval will cover the central 95% of the bootstrapped distribution, providing a direct empirical estimate of the confidence interval."
   ]
  },
  {
   "cell_type": "code",
   "execution_count": 1,
   "id": "1e176d7d",
   "metadata": {},
   "outputs": [
    {
     "name": "stdout",
     "output_type": "stream",
     "text": [
      "95% Bootstrap Confidence Interval for the Population Mean: (5.9, 8.1)\n",
      "95% Bootstrap Confidence Interval for the Population Median: (5.5, 8.5)\n"
     ]
    }
   ],
   "source": [
    "#Q4:\n",
    "import numpy as np\n",
    "\n",
    "# Sample data\n",
    "sample = [5, 7, 8, 6, 4, 9, 10, 6, 8, 7]\n",
    "\n",
    "# Number of bootstrap samples\n",
    "n_bootstrap = 1000\n",
    "\n",
    "# Array to store bootstrap estimates\n",
    "bootstrap_means = []\n",
    "\n",
    "# Generate bootstrap samples and calculate their means\n",
    "for _ in range(n_bootstrap):\n",
    "    # Resample with replacement\n",
    "    bootstrap_sample = np.random.choice(sample, size=len(sample), replace=True)\n",
    "    \n",
    "    # Calculate the mean of the bootstrap sample and store it\n",
    "    bootstrap_mean = np.mean(bootstrap_sample)\n",
    "    bootstrap_means.append(bootstrap_mean)\n",
    "\n",
    "# Calculate the 95% bootstrap confidence interval\n",
    "lower_bound = np.percentile(bootstrap_means, 2.5)\n",
    "upper_bound = np.percentile(bootstrap_means, 97.5)\n",
    "\n",
    "print(f\"95% Bootstrap Confidence Interval for the Population Mean: ({lower_bound}, {upper_bound})\")\n",
    "\n",
    "# To calculate a 95% bootstrap confidence interval for a different parameter:\n",
    "# For example, the population median:\n",
    "bootstrap_medians = []\n",
    "\n",
    "for _ in range(n_bootstrap):\n",
    "    # Resample with replacement\n",
    "    bootstrap_sample = np.random.choice(sample, size=len(sample), replace=True)\n",
    "    \n",
    "    # Calculate the median of the bootstrap sample and store it\n",
    "    bootstrap_median = np.median(bootstrap_sample)\n",
    "    bootstrap_medians.append(bootstrap_median)\n",
    "\n",
    "# Calculate the 95% bootstrap confidence interval for the median\n",
    "lower_bound_median = np.percentile(bootstrap_medians, 2.5)\n",
    "upper_bound_median = np.percentile(bootstrap_medians, 97.5)\n",
    "\n",
    "print(f\"95% Bootstrap Confidence Interval for the Population Median: ({lower_bound_median}, {upper_bound_median})\")\n"
   ]
  },
  {
   "cell_type": "markdown",
   "id": "0d891ae5",
   "metadata": {},
   "source": [
    "Q5:\n",
    "Population parameter: This is the true value we want to know, like the actual average or proportion of the whole population. \n",
    " \n",
    "Sample statistic: This is the value we calculate from the sample, such as the sample mean or sample proportion. It is an estimate of the population parameter. Since it comes from a subset of the population, it may vary depending on the sample taken. \n",
    " \n",
    "When constructing a confidence interval, we essentially use the sample statistic to estimate the range by which the true population parameter is likely to decline, as well as the given confidence level (for example, 95%). Confidence intervals account for the variability of sampling, i.e. different samples may produce different statistics. By understanding that the population parameters are fixed and the sample statistics can change, we can better realize that the confidence interval reflects our uncertainty about where the parameters are located due to the inherent randomness of sampling."
   ]
  },
  {
   "cell_type": "markdown",
   "id": "c28e4ea8",
   "metadata": {},
   "source": [
    "https://chatgpt.com/share/66fdf0d6-880c-8001-bebd-fb7bd9008b3a"
   ]
  },
  {
   "cell_type": "markdown",
   "id": "823bc6ce",
   "metadata": {},
   "source": [
    "Q6:\n",
    "\n",
    "1.Suppose you have a group of people and you want to know something about them, such as their average weight. But you can't measure everyone's weight, so you draw a smaller sample from it. With self-help, you treat this small sample as a representative of the entire population.\n",
    "\n",
    "2.The main purpose of the self-help method is to estimate the variability of the sample statistics. In simple terms, it helps us understand how much our results will vary across sample cases. It's like using our limited data to create an \"imaginary population\" so that we can understand how stable our estimates are. For example, if you want to estimate your average weight and want to know how confident you are in that estimate, self-help can help you do that. You can use it as a confidence interval, which tells you a range of values that are the true population average that we can be fairly confident about. The best part is that it doesn't require complicated mathematical formulas, just multiple re-samples.\n",
    "\n",
    "3.Suppose you think that the average weight of a population is 65kg. You take a sample of, say, 100 people, and it turns out that their average weight is 70 kg. You want to know if the difference is significant or if it's just a random error. \n",
    "Now use the self-help method: \n",
    "Re-sample your original sample multiple times to create thousands of self-help samples. Average weight was calculated for each self-help sample. After doing this many times, you get the average weight distribution for all the self-help samples. This distribution tells you the variability that is likely to occur in a random situation. \n",
    "Now, compare your assumed average (65kg) with this self-help distribution. If 60kg is within the mean of the self-help sample, this means that your hypothesis is reasonable - that is, the 70kg difference in your sample is probably due to random error. However, if 65kg is well outside the range commonly found in self-help distributions, that suggests that the true mean of the population may not be 60kg, and that this difference may not be random.\n"
   ]
  },
  {
   "cell_type": "markdown",
   "id": "78134864",
   "metadata": {},
   "source": [
    "Q7:\n",
    "If the confidence interval contains zero, it means that based on the sample data, the true effect may be zero, which means that we do not have enough evidence to rule out the possibility of \"no effect.\" Therefore, we cannot reject the null hypothesis. Even if the observed sample mean is not zero, the confidence interval reflects the uncertainty of the estimate. If zero is a reasonable value, it cannot be said with confidence that there is a significant effect. When the confidence interval does not contain zero, we have enough evidence for a real effect to reject the null hypothesis."
   ]
  },
  {
   "cell_type": "markdown",
   "id": "d1670bb7",
   "metadata": {},
   "source": [
    "Q8:\n",
    "In this context, the Null Hypothesis states that vaccines have no effect on health. That is, the average health score after vaccination was not significantly different from the health score before vaccination. In other words, we assume that the vaccine has no significant effect on health improvement, that is, the change in the average health score before and after the vaccine is zero. If our data do not provide sufficient evidence that the vaccine works, then we cannot reject this null hypothesis."
   ]
  },
  {
   "cell_type": "code",
   "execution_count": 12,
   "id": "ac26e85b",
   "metadata": {},
   "outputs": [
    {
     "data": {
      "image/png": "[encoded data removed]",
      "text/plain": [
       "<Figure size 1000x600 with 1 Axes>"
      ]
     },
     "metadata": {},
     "output_type": "display_data"
    }
   ],
   "source": [
    "import pandas as pd\n",
    "import matplotlib.pyplot as plt\n",
    "\n",
    "data = {\n",
    "    'PatientID': range(1, 11),\n",
    "    'Age': [45, 34, 29, 52, 37, 41, 33, 48, 26, 39],\n",
    "    'Gender': ['M', 'F', 'M', 'F', 'M', 'F', 'M', 'F', 'M', 'F'],\n",
    "    'InitialHealthScore': [84, 78, 83, 81, 81, 80, 79, 85, 76, 83],\n",
    "    'FinalHealthScore': [86, 86, 80, 86, 84, 86, 86, 82, 83, 84]\n",
    "}\n",
    "\n",
    "df = pd.DataFrame(data)\n",
    "\n",
    "plt.figure(figsize=(10, 6))\n",
    "plt.boxplot([df['InitialHealthScore'], df['FinalHealthScore']], labels=['InitialHealthScore', 'FinalHealthScore'])\n",
    "plt.title('Comparison of Initial and Final Health Scores')\n",
    "plt.ylabel('Health Score')\n",
    "plt.grid(True)\n",
    "plt.show()\n"
   ]
  },
  {
   "cell_type": "code",
   "execution_count": 8,
   "id": "aa47b60d",
   "metadata": {},
   "outputs": [
    {
     "name": "stdout",
     "output_type": "stream",
     "text": [
      "95% confidence interval: [0.7, 5.4]\n"
     ]
    }
   ],
   "source": [
    "import numpy as np\n",
    "import pandas as pd\n",
    "import matplotlib.pyplot as plt\n",
    "\n",
    "data = pd.DataFrame({\n",
    "    'InitialHealthScore': [84, 78, 83, 81, 81, 80, 79, 85, 76, 83],\n",
    "    'FinalHealthScore': [86, 86, 80, 86, 84, 86, 86, 82, 83, 84]\n",
    "})\n",
    "\n",
    "data['ScoreDifference'] = data['FinalHealthScore'] - data['InitialHealthScore']\n",
    "\n",
    "n_iterations = 1000\n",
    "bootstrap_means = []\n",
    "for _ in range(n_iterations):\n",
    "    sample = data['ScoreDifference'].sample(frac=1, replace=True)\n",
    "    bootstrap_means.append(sample.mean())\n",
    "\n",
    "lower_bound = np.percentile(bootstrap_means, 2.5)\n",
    "upper_bound = np.percentile(bootstrap_means, 97.5)\n",
    "\n",
    "print(f\"95% confidence interval: [{lower_bound}, {upper_bound}]\")\n"
   ]
  },
  {
   "cell_type": "markdown",
   "id": "7560bbce",
   "metadata": {},
   "source": [
    "The histogram of differences in health scores shows that most of the patients in the original data showed some improvement in their health scores after vaccination. \n",
    "The mean distribution of self-help method shows that the mean distribution is mainly concentrated in the positive area, indicating that the improvement of health score has a certain consistency. \n",
    "The visualization of the confidence interval shows that the 95% confidence interval is about [1, 5], and zero is not in the confidence interval, which means that we have enough statistical evidence that vaccination does have a significant improvement in health scores."
   ]
  },
  {
   "cell_type": "markdown",
   "id": "992f917f",
   "metadata": {},
   "source": [
    "In this analysis, the Null Hypothesis is that vaccines have no significant effect on health scores, that is, the difference in overall health scores is zero. According to the results of the self-help method, the 95% confidence interval we get does not contain zero, which means that we can reject the null hypothesis. That said, we have enough evidence that vaccines do have a significant positive effect on health scores."
   ]
  },
  {
   "cell_type": "markdown",
   "id": "de2e833a",
   "metadata": {},
   "source": [
    "https://chatgpt.com/share/66fe0290-9bdc-8001-ab59-2cd010d4f330"
   ]
  },
  {
   "cell_type": "markdown",
   "id": "fec42f25",
   "metadata": {},
   "source": [
    "Mostly"
   ]
  }
 ],
 "metadata": {
  "kernelspec": {
   "display_name": "Python 3 (ipykernel)",
   "language": "python",
   "name": "python3"
  },
  "language_info": {
   "codemirror_mode": {
    "name": "ipython",
    "version": 3
   },
   "file_extension": ".py",
   "mimetype": "text/x-python",
   "name": "python",
   "nbconvert_exporter": "python",
   "pygments_lexer": "ipython3",
   "version": "3.11.6"
  }
 },
 "nbformat": 4,
 "nbformat_minor": 5
}
